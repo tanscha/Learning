{
 "cells": [
  {
   "cell_type": "code",
   "execution_count": 1,
   "metadata": {},
   "outputs": [],
   "source": [
    "import matplotlib.pyplot as plt\n",
    "import numpy as np\n",
    "import pandas as pd\n"
   ]
  },
  {
   "cell_type": "code",
   "execution_count": 3,
   "metadata": {},
   "outputs": [],
   "source": [
    "data = pd.read_excel('data.xlsx')"
   ]
  },
  {
   "cell_type": "code",
   "execution_count": 4,
   "metadata": {},
   "outputs": [],
   "source": [
    "def interp_d(t):\n",
    "    xvektor = np.array(data.iloc[:, 0])\n",
    "    yvektor = np.array(data.iloc[:, 1])\n",
    " \n",
    "    return np.interp(np.array(t), xvektor, yvektor)"
   ]
  },
  {
   "cell_type": "code",
   "execution_count": 5,
   "metadata": {},
   "outputs": [],
   "source": [
    "def interp_k(t):\n",
    "    xvektor = np.array(data.iloc[:, 0])\n",
    "    yvektor = np.array(np.cumsum(data.iloc[:, 3]))\n",
    "\n",
    "    return np.interp(np.array(t), xvektor, yvektor)"
   ]
  },
  {
   "cell_type": "code",
   "execution_count": 12,
   "metadata": {},
   "outputs": [],
   "source": [
    "def cost_function(k, d):\n",
    "    period = 365 - 1\n",
    "    vektor = np.linspace(0, 365, 20000)\n",
    "    kvektor = k * interp_k((vektor-d))\n",
    "    dvektor = interp_d(vektor)\n",
    "\n",
    "    cost = (np.trapz((kvektor - dvektor) ** 2, vektor))/(period-d)\n",
    "\n",
    "    return cost"
   ]
  },
  {
   "cell_type": "code",
   "execution_count": 8,
   "metadata": {},
   "outputs": [],
   "source": [
    "def plot_cost_function(vector, period, iterations, start, stop):\n",
    "    gamm = 0.000000001\n",
    "    h = 0.1\n",
    "    c = 6000\n",
    "    cNew = 7000\n",
    "    k = 0.02\n",
    "    d = 4.5\n",
    "    iter=0\n",
    "    \n",
    "    while np.abs(cNew-c) > 1e-6:\n",
    "        c = cNew\n",
    "        cdx = (cost_function(k+h, d) - cost_function(k-h, d))/(2*h)\n",
    "        cdy = (cost_function(k, d+h) - cost_function(k, d-h))/(2*h)\n",
    "        k = k - gamm*cdx\n",
    "        d = d - gamm*cdy\n",
    "        cNew = cost_function(k, d)\n",
    "        iter = iter + 1\n",
    "    \n",
    "    print('iterasjoner: ', iter)\n",
    "    print(k, d)\n",
    "    plt.plot(vector, np.array(k * interp_k(vector - d)))\n",
    "    plt.plot(vector, interp_d(vector))\n",
    "    plt.xlabel('Døgn')\n",
    "    plt.legend(['k*K(t-d)', 'D(t)'])\n",
    "    plt.title('k: '+ str(k) + '\\nd: ' + str(d) + '\\niterasjoner: ' + str(iter))\n",
    "    plt.tight_layout()\n",
    "    plt.show()\n",
    "    print('ferdig')"
   ]
  },
  {
   "cell_type": "code",
   "execution_count": 14,
   "metadata": {},
   "outputs": [
    {
     "name": "stdout",
     "output_type": "stream",
     "text": [
      "iterasjoner:  35\n",
      "0.02129027545978381 4.500000309596707\n"
     ]
    },
    {
     "data": {
      "image/png": "[encoded data removed]",
      "text/plain": [
       "<Figure size 432x288 with 1 Axes>"
      ]
     },
     "metadata": {
      "needs_background": "light"
     },
     "output_type": "display_data"
    },
    {
     "name": "stdout",
     "output_type": "stream",
     "text": [
      "ferdig\n"
     ]
    }
   ],
   "source": [
    "if __name__ == '__main__':\n",
    "    start = 1\n",
    "    slutt = 365\n",
    "    periode = slutt - start + 1\n",
    "    iterasjoner = periode * 6\n",
    "    plotvektor = np.array(np.linspace(start, slutt, iterasjoner))\n",
    "    plot_cost_function(plotvektor, periode, iterasjoner, start, slutt)"
   ]
  },
  {
   "cell_type": "code",
   "execution_count": null,
   "metadata": {},
   "outputs": [],
   "source": []
  }
 ],
 "metadata": {
  "kernelspec": {
   "display_name": "Python 3",
   "language": "python",
   "name": "python3"
  },
  "language_info": {
   "codemirror_mode": {
    "name": "ipython",
    "version": 3
   },
   "file_extension": ".py",
   "mimetype": "text/x-python",
   "name": "python",
   "nbconvert_exporter": "python",
   "pygments_lexer": "ipython3",
   "version": "3.8.5"
  }
 },
 "nbformat": 4,
 "nbformat_minor": 4
}
