{
 "cells": [
  {
   "cell_type": "code",
   "execution_count": 2,
   "metadata": {},
   "outputs": [
    {
     "name": "stdout",
     "output_type": "stream",
     "text": [
      "                         date  births\n",
      "0  1975-01-01 00:00:00.000000  265775\n",
      "1  1975-03-01 00:00:00.000000  268849\n",
      "2  1975-05-01 00:00:00.000000  254545\n",
      "3  1975-06-01 00:00:00.000000  254096\n",
      "4  1975-07-01 00:00:00.000000  275163\n"
     ]
    }
   ],
   "source": [
    "import pandas as pd\n",
    "from pandasql import sqldf\n",
    "from pandasql import load_births\n",
    "\n",
    "births = load_births()\n",
    "\n",
    "print(sqldf(\"SELECT * FROM births where births > 250000 limit 5;\"))"
   ]
  },
  {
   "cell_type": "code",
   "execution_count": 3,
   "metadata": {},
   "outputs": [
    {
     "name": "stdout",
     "output_type": "stream",
     "text": [
      "          DOB  Total Births\n",
      "0  1975-01-01        265775\n",
      "1  1975-02-01        241045\n",
      "2  1975-03-01        268849\n",
      "3  1975-04-01        247455\n",
      "4  1975-05-01        254545\n",
      "5  1975-06-01        254096\n",
      "6  1975-07-01        275163\n",
      "7  1975-08-01        281300\n",
      "8  1975-09-01        270738\n",
      "9  1975-10-01        265494\n"
     ]
    }
   ],
   "source": [
    "q = \"\"\"\n",
    "        select \n",
    "            date(date) as DOB,\n",
    "            sum(births) as \"Total Births\"\n",
    "        from\n",
    "            births\n",
    "        group by\n",
    "            date\n",
    "            limit 10\n",
    "\"\"\"\n",
    "print(sqldf(q, locals()))"
   ]
  },
  {
   "cell_type": "code",
   "execution_count": 6,
   "metadata": {},
   "outputs": [],
   "source": [
    "def pysqldf(q):\n",
    "    \"add this to your script if you get tired of calling locals()\"\n",
    "    return sqldf(q, globals())"
   ]
  },
  {
   "cell_type": "code",
   "execution_count": 7,
   "metadata": {},
   "outputs": [
    {
     "name": "stdout",
     "output_type": "stream",
     "text": [
      "          DOB  Total Births\n",
      "0  1975-01-01        265775\n",
      "1  1975-02-01        241045\n",
      "2  1975-03-01        268849\n",
      "3  1975-04-01        247455\n",
      "4  1975-05-01        254545\n",
      "5  1975-06-01        254096\n",
      "6  1975-07-01        275163\n",
      "7  1975-08-01        281300\n",
      "8  1975-09-01        270738\n",
      "9  1975-10-01        265494\n"
     ]
    }
   ],
   "source": [
    "print(pysqldf(q))"
   ]
  },
  {
   "cell_type": "code",
   "execution_count": 8,
   "metadata": {},
   "outputs": [
    {
     "data": {
      "text/plain": [
       "'C:\\\\Users\\\\Tanja'"
      ]
     },
     "execution_count": 8,
     "metadata": {},
     "output_type": "execute_result"
    }
   ],
   "source": [
    "pwd"
   ]
  },
  {
   "cell_type": "code",
   "execution_count": null,
   "metadata": {},
   "outputs": [],
   "source": []
  }
 ],
 "metadata": {
  "kernelspec": {
   "display_name": "Python 3",
   "language": "python",
   "name": "python3"
  },
  "language_info": {
   "codemirror_mode": {
    "name": "ipython",
    "version": 3
   },
   "file_extension": ".py",
   "mimetype": "text/x-python",
   "name": "python",
   "nbconvert_exporter": "python",
   "pygments_lexer": "ipython3",
   "version": "3.8.5"
  }
 },
 "nbformat": 4,
 "nbformat_minor": 4
}
