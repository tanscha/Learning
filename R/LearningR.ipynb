{
 "cells": [
  {
   "cell_type": "code",
   "execution_count": 1,
   "metadata": {},
   "outputs": [
    {
     "name": "stdout",
     "output_type": "stream",
     "text": [
      "[1] \"Functions with word log\"\n"
     ]
    },
    {
     "data": {
      "text/html": [
       "<ol class=list-inline>\n",
       "\t<li>'as.data.frame.logical'</li>\n",
       "\t<li>'as.logical'</li>\n",
       "\t<li>'as.logical.factor'</li>\n",
       "\t<li>'dlogis'</li>\n",
       "\t<li>'is.logical'</li>\n",
       "\t<li>'log'</li>\n",
       "\t<li>'log10'</li>\n",
       "\t<li>'log1p'</li>\n",
       "\t<li>'log2'</li>\n",
       "\t<li>'logb'</li>\n",
       "\t<li>'Logic'</li>\n",
       "\t<li>'logical'</li>\n",
       "\t<li>'logLik'</li>\n",
       "\t<li>'loglin'</li>\n",
       "\t<li>'plogis'</li>\n",
       "\t<li>'qlogis'</li>\n",
       "\t<li>'rlogis'</li>\n",
       "\t<li>'SSlogis'</li>\n",
       "\t<li>'winDialog'</li>\n",
       "\t<li>'winDialogString'</li>\n",
       "</ol>\n"
      ],
      "text/latex": [
       "\\begin{enumerate*}\n",
       "\\item 'as.data.frame.logical'\n",
       "\\item 'as.logical'\n",
       "\\item 'as.logical.factor'\n",
       "\\item 'dlogis'\n",
       "\\item 'is.logical'\n",
       "\\item 'log'\n",
       "\\item 'log10'\n",
       "\\item 'log1p'\n",
       "\\item 'log2'\n",
       "\\item 'logb'\n",
       "\\item 'Logic'\n",
       "\\item 'logical'\n",
       "\\item 'logLik'\n",
       "\\item 'loglin'\n",
       "\\item 'plogis'\n",
       "\\item 'qlogis'\n",
       "\\item 'rlogis'\n",
       "\\item 'SSlogis'\n",
       "\\item 'winDialog'\n",
       "\\item 'winDialogString'\n",
       "\\end{enumerate*}\n"
      ],
      "text/markdown": [
       "1. 'as.data.frame.logical'\n",
       "2. 'as.logical'\n",
       "3. 'as.logical.factor'\n",
       "4. 'dlogis'\n",
       "5. 'is.logical'\n",
       "6. 'log'\n",
       "7. 'log10'\n",
       "8. 'log1p'\n",
       "9. 'log2'\n",
       "10. 'logb'\n",
       "11. 'Logic'\n",
       "12. 'logical'\n",
       "13. 'logLik'\n",
       "14. 'loglin'\n",
       "15. 'plogis'\n",
       "16. 'qlogis'\n",
       "17. 'rlogis'\n",
       "18. 'SSlogis'\n",
       "19. 'winDialog'\n",
       "20. 'winDialogString'\n",
       "\n",
       "\n"
      ],
      "text/plain": [
       " [1] \"as.data.frame.logical\" \"as.logical\"            \"as.logical.factor\"    \n",
       " [4] \"dlogis\"                \"is.logical\"            \"log\"                  \n",
       " [7] \"log10\"                 \"log1p\"                 \"log2\"                 \n",
       "[10] \"logb\"                  \"Logic\"                 \"logical\"              \n",
       "[13] \"logLik\"                \"loglin\"                \"plogis\"               \n",
       "[16] \"qlogis\"                \"rlogis\"                \"SSlogis\"              \n",
       "[19] \"winDialog\"             \"winDialogString\"      "
      ]
     },
     "metadata": {},
     "output_type": "display_data"
    },
    {
     "name": "stdout",
     "output_type": "stream",
     "text": [
      "Examples\n",
      "log> log(exp(3))\n",
      "[1] 3\n",
      "\n",
      "log> log10(1e7) # = 7\n",
      "[1] 7\n",
      "\n",
      "log> x <- 10^-(1+2*1:9)\n",
      "\n",
      "log> cbind(x, log(1+x), log1p(x), exp(x)-1, expm1(x))\n",
      "          x                                                    \n",
      " [1,] 1e-03 9.995003e-04 9.995003e-04 1.000500e-03 1.000500e-03\n",
      " [2,] 1e-05 9.999950e-06 9.999950e-06 1.000005e-05 1.000005e-05\n",
      " [3,] 1e-07 1.000000e-07 1.000000e-07 1.000000e-07 1.000000e-07\n",
      " [4,] 1e-09 1.000000e-09 1.000000e-09 1.000000e-09 1.000000e-09\n",
      " [5,] 1e-11 1.000000e-11 1.000000e-11 1.000000e-11 1.000000e-11\n",
      " [6,] 1e-13 9.992007e-14 1.000000e-13 9.992007e-14 1.000000e-13\n",
      " [7,] 1e-15 1.110223e-15 1.000000e-15 1.110223e-15 1.000000e-15\n",
      " [8,] 1e-17 0.000000e+00 1.000000e-17 0.000000e+00 1.000000e-17\n",
      " [9,] 1e-19 0.000000e+00 1.000000e-19 0.000000e+00 1.000000e-19\n"
     ]
    }
   ],
   "source": [
    "print('Functions with word log')\n",
    "apropos(\"log\")\n",
    "cat('Examples')\n",
    "example(log)\n"
   ]
  },
  {
   "cell_type": "code",
   "execution_count": 2,
   "metadata": {},
   "outputs": [
    {
     "name": "stdout",
     "output_type": "stream",
     "text": [
      "[1] \"All values are printed in console\"\n",
      "[1] \"All computations that are assigned into variable are not printed on console\"\n"
     ]
    },
    {
     "data": {
      "text/html": [
       "4"
      ],
      "text/latex": [
       "4"
      ],
      "text/markdown": [
       "4"
      ],
      "text/plain": [
       "[1] 4"
      ]
     },
     "metadata": {},
     "output_type": "display_data"
    },
    {
     "data": {
      "text/html": [
       "1.7"
      ],
      "text/latex": [
       "1.7"
      ],
      "text/markdown": [
       "1.7"
      ],
      "text/plain": [
       "[1] 1.7"
      ]
     },
     "metadata": {},
     "output_type": "display_data"
    },
    {
     "data": {
      "text/html": [
       "5"
      ],
      "text/latex": [
       "5"
      ],
      "text/markdown": [
       "5"
      ],
      "text/plain": [
       "[1] 5"
      ]
     },
     "metadata": {},
     "output_type": "display_data"
    },
    {
     "data": {
      "text/html": [
       "18"
      ],
      "text/latex": [
       "18"
      ],
      "text/markdown": [
       "18"
      ],
      "text/plain": [
       "[1] 18"
      ]
     },
     "metadata": {},
     "output_type": "display_data"
    },
    {
     "data": {
      "text/html": [
       "3.14159265358979"
      ],
      "text/latex": [
       "3.14159265358979"
      ],
      "text/markdown": [
       "3.14159265358979"
      ],
      "text/plain": [
       "[1] 3.141593"
      ]
     },
     "metadata": {},
     "output_type": "display_data"
    },
    {
     "data": {
      "text/html": [
       "11"
      ],
      "text/latex": [
       "11"
      ],
      "text/markdown": [
       "11"
      ],
      "text/plain": [
       "[1] 11"
      ]
     },
     "metadata": {},
     "output_type": "display_data"
    }
   ],
   "source": [
    "print('All values are printed in console')\n",
    "print('All computations that are assigned into variable are not printed on console')\n",
    "2 + 2\n",
    "3.4/2\n",
    "x = 3\n",
    "x + 2\n",
    "2*x^2\n",
    "pi\n",
    "5^2-7*2"
   ]
  },
  {
   "cell_type": "code",
   "execution_count": 3,
   "metadata": {},
   "outputs": [
    {
     "name": "stdout",
     "output_type": "stream",
     "text": [
      "[1] \"In case variable x is declared and assigned a value in any other windows then you can use it in other windows too\"\n"
     ]
    },
    {
     "data": {
      "text/html": [
       "3"
      ],
      "text/latex": [
       "3"
      ],
      "text/markdown": [
       "3"
      ],
      "text/plain": [
       "[1] 3"
      ]
     },
     "metadata": {},
     "output_type": "display_data"
    }
   ],
   "source": [
    "print('In case variable x is declared and assigned a value in any other windows then you can use it in other windows too')\n",
    "x"
   ]
  },
  {
   "cell_type": "code",
   "execution_count": 4,
   "metadata": {},
   "outputs": [
    {
     "data": {
      "text/html": [
       "<ol class=list-inline>\n",
       "\t<li>48</li>\n",
       "\t<li>56</li>\n",
       "\t<li>79</li>\n",
       "</ol>\n"
      ],
      "text/latex": [
       "\\begin{enumerate*}\n",
       "\\item 48\n",
       "\\item 56\n",
       "\\item 79\n",
       "\\end{enumerate*}\n"
      ],
      "text/markdown": [
       "1. 48\n",
       "2. 56\n",
       "3. 79\n",
       "\n",
       "\n"
      ],
      "text/plain": [
       "[1] 48 56 79"
      ]
     },
     "metadata": {},
     "output_type": "display_data"
    }
   ],
   "source": [
    "x = c(1,3,4,7) #assign vector to a variable name.\n",
    "y = x + 1 #We add 1 to all members of vector x\n",
    "c(48,56,79) #this will not be stored anywhere but is printed on console.\n",
    "\n",
    "z = rep(1,4) ##Rep is a function. See what it does by consulting the help pages.\n",
    "rep_val=rep(0,10)\n",
    "seq4=1:4\n",
    "seq_4=-4:1\n",
    "\n",
    "year = 2003:2007\n",
    "sq=seq(1,4)\n",
    "sq2=seq(2, 8, by=2)\n",
    "v = seq(0, 1, by=.1)\n",
    "cl_v=class(v)\n",
    "\n",
    "seq_len5=seq(0, 1, length=5)\n",
    "fruits = c(\"apples\",\"oranges\",\"kiwis\",\"mangos\")\n",
    "\n",
    "asn=as.numeric(c(\"1\",\"2\",\"3\"))\n",
    "m = c(\"1\",\"2\",\"3\", 4)\n",
    "m = c(1,2,3,4,\"5\")\n",
    "\n",
    "fr_1=fruits[1] #first element of a vector\n",
    "\n",
    "len_fr=length(fruits) #vector length\n",
    "\n",
    "last_fr=fruits[length(fruits)]#last element of a vector\n",
    "\n",
    "first_2=fruits[c(1,2)] # First two elements\n",
    "first_3=fruits[1:3] #Elements 1 to 3\n",
    "\n",
    "all_ex3=fruits[-3] #Everything exept the 3 elements\n",
    "joined_vec=c(x,z) #join x and z vectors\n",
    "larger_than4=x[x>=4] # All elements of x that are greater/equal than 4\n",
    "fn_=sin(x[x>=4]+2)^2 + c(3)\n",
    "div2=c(3,4)/2\n",
    "div_=c(3,4)/c(8,9)\n",
    "\n",
    "rev_=rev(y) #reverse\n",
    "y = c(10,6,8,2,10)\n",
    "srt_=sort(y)\n",
    "ord_=order(y)\n",
    "#Sort y\n",
    "sorted_y=y[order(y, decreasing=TRUE)]"
   ]
  },
  {
   "cell_type": "code",
   "execution_count": 5,
   "metadata": {},
   "outputs": [
    {
     "name": "stdout",
     "output_type": "stream",
     "text": [
      "[1] \"Rownumber of mx2\"\n"
     ]
    },
    {
     "data": {
      "text/html": [
       "3"
      ],
      "text/latex": [
       "3"
      ],
      "text/markdown": [
       "3"
      ],
      "text/plain": [
       "[1] 3"
      ]
     },
     "metadata": {},
     "output_type": "display_data"
    },
    {
     "name": "stdout",
     "output_type": "stream",
     "text": [
      "[1] \"Colnumber of mx2\"\n"
     ]
    },
    {
     "data": {
      "text/html": [
       "4"
      ],
      "text/latex": [
       "4"
      ],
      "text/markdown": [
       "4"
      ],
      "text/plain": [
       "[1] 4"
      ]
     },
     "metadata": {},
     "output_type": "display_data"
    }
   ],
   "source": [
    "#Some ways of declaring a matrix\n",
    "mx = matrix(fruits,2,2)\n",
    "mx2=matrix(c(1,2,4,3,2,5,6,7,5,11,2,3),3,4)\n",
    "mx3 = matrix(c(1,2,4,3,2,5,6,7,5,11,2,3),3,4, byrow=TRUE)\n",
    "mx4=matrix(rep(10,10), ncol = 5)\n",
    "#How many rows and columns / printed on console\n",
    "print('Rownumber of mx2')\n",
    "nrow(mx2)\n",
    "print('Colnumber of mx2')\n",
    "ncol(mx2)\n",
    "#Extract subsets in matrix.\n",
    "#First and second columns\n",
    "mx2_col12=mx2[,c(1,2)]\n",
    "#First and second rows\n",
    "mx2_row12=mx2[c(1,2),]\n",
    "#Multiply the first row elements by two.\n",
    "mxnew=mx2[1,]*2\n",
    "mx2_col2=mx2[,2]\n",
    "#Extract element value in third column and first row\n",
    "mx2_row1col3=mx2[1,3]\n",
    "mx2_times7=mx2*7\n",
    "mx_col3div2=mx2[,3]/2\n",
    "#Change 1 row of mx2\n",
    "mx2[1,] = mx2[1,]/2\n",
    "mx3 = cbind(mx2,rep(0,3))\n",
    "mx2[,2] = rep(3,3)\n",
    "mx2[,3] = 3\n",
    "#You can join matrices. \n",
    "#Join matrices by columns\n",
    "#Make sure that matrix column names match.\n",
    "#rownames(mx2)\n",
    "\n",
    "cbinded=cbind(mx2[,1:2],rep(3,3), mx2[,3:4])\n",
    "#Join matrices by rows.\n",
    "rbinded=rbind(mx2,c(0,0,0,0))"
   ]
  },
  {
   "cell_type": "code",
   "execution_count": 6,
   "metadata": {},
   "outputs": [
    {
     "name": "stdout",
     "output_type": "stream",
     "text": [
      "List of 4\n",
      " $ surname: chr \"Mike\"\n",
      " $ x      : num 2\n",
      " $ y      : num 9\n",
      " $ year   : num 1990\n",
      "[1] \"Extract list element surname\"\n"
     ]
    },
    {
     "data": {
      "text/html": [
       "'Mike'"
      ],
      "text/latex": [
       "'Mike'"
      ],
      "text/markdown": [
       "'Mike'"
      ],
      "text/plain": [
       "[1] \"Mike\""
      ]
     },
     "metadata": {},
     "output_type": "display_data"
    }
   ],
   "source": [
    "#Declare a list variable that has 4 components\n",
    "person = list(surname=\"Mike\", x=2, y=9, year=1990)\n",
    "str(person)\n",
    "print('Extract list element surname')\n",
    "person$surname #dollar sign\n",
    "complicated_list = list(\"a\"= 1:4, \"b\"=1:3, \"c\"=matrix(1:4, nrow=2), \"d\"=search)\n",
    "#Extract first list element\n",
    "#print('First data element')\n",
    "sec1=complicated_list[[1]]\n",
    "#print('Extract second element in the first data structure of complicated_list')\n",
    "sec2=complicated_list[[1]][2]\n",
    "\n",
    "complicated_list$a = matrix(1, 2, 2)     # replacing a list element\n",
    "complicated_list$title ='an arbitrary list' # adding an element\n",
    "complicated_list$d = NULL                  # removing an element\n",
    "#complicated_list"
   ]
  },
  {
   "cell_type": "code",
   "execution_count": 7,
   "metadata": {},
   "outputs": [],
   "source": [
    "#Common distribution uniform, normal, exponential, gamma, poission, beta ...\n",
    "\n",
    "uniform_100 = runif(100, min = 1, max = 5)\n",
    "normal_100 = rnorm(100)\n",
    "#Sampling can be done with function sample()\n",
    "sample5_from_uniform100 = sample(uniform_100, size = 5, replace =FALSE) #random sampling\n",
    "set.seed(1)\n",
    "\n",
    "sample_0or1_100times=sample(c(0,1), 100, replace = TRUE) # sampling with replacement, 0 and 1"
   ]
  },
  {
   "cell_type": "code",
   "execution_count": 8,
   "metadata": {},
   "outputs": [
    {
     "name": "stdout",
     "output_type": "stream",
     "text": [
      "[1] \"Loaded packages\"\n"
     ]
    },
    {
     "data": {
      "text/html": [
       "<ol class=list-inline>\n",
       "\t<li>'.GlobalEnv'</li>\n",
       "\t<li>'jupyter:irkernel'</li>\n",
       "\t<li>'package:stats'</li>\n",
       "\t<li>'package:graphics'</li>\n",
       "\t<li>'package:grDevices'</li>\n",
       "\t<li>'package:utils'</li>\n",
       "\t<li>'package:datasets'</li>\n",
       "\t<li>'package:methods'</li>\n",
       "\t<li>'Autoloads'</li>\n",
       "\t<li>'package:base'</li>\n",
       "</ol>\n"
      ],
      "text/latex": [
       "\\begin{enumerate*}\n",
       "\\item '.GlobalEnv'\n",
       "\\item 'jupyter:irkernel'\n",
       "\\item 'package:stats'\n",
       "\\item 'package:graphics'\n",
       "\\item 'package:grDevices'\n",
       "\\item 'package:utils'\n",
       "\\item 'package:datasets'\n",
       "\\item 'package:methods'\n",
       "\\item 'Autoloads'\n",
       "\\item 'package:base'\n",
       "\\end{enumerate*}\n"
      ],
      "text/markdown": [
       "1. '.GlobalEnv'\n",
       "2. 'jupyter:irkernel'\n",
       "3. 'package:stats'\n",
       "4. 'package:graphics'\n",
       "5. 'package:grDevices'\n",
       "6. 'package:utils'\n",
       "7. 'package:datasets'\n",
       "8. 'package:methods'\n",
       "9. 'Autoloads'\n",
       "10. 'package:base'\n",
       "\n",
       "\n"
      ],
      "text/plain": [
       " [1] \".GlobalEnv\"        \"jupyter:irkernel\"  \"package:stats\"    \n",
       " [4] \"package:graphics\"  \"package:grDevices\" \"package:utils\"    \n",
       " [7] \"package:datasets\"  \"package:methods\"   \"Autoloads\"        \n",
       "[10] \"package:base\"     "
      ]
     },
     "metadata": {},
     "output_type": "display_data"
    },
    {
     "data": {
      "text/html": [
       "7.07106781186548"
      ],
      "text/latex": [
       "7.07106781186548"
      ],
      "text/markdown": [
       "7.07106781186548"
      ],
      "text/plain": [
       "[1] 7.071068"
      ]
     },
     "metadata": {},
     "output_type": "display_data"
    }
   ],
   "source": [
    "#Other useful commands\n",
    "#-------#\n",
    "#Which variables have beend declared\n",
    "dec_var=ls()\n",
    "#Remove a variable\n",
    "a=1\n",
    "rm(a)\n",
    "\n",
    "new_list_declared_vars=ls()\n",
    "#Get your current working directory\n",
    "#This is where R reads and writes its files.\n",
    "\n",
    "gw=getwd()\n",
    "#Set new wd with command setwd()\n",
    "#setwd(\"/home/coderus/Education/teach/Rtutorial/\")\n",
    "libs=library()   # see all packages installed \n",
    "print('Loaded packages')\n",
    "src=search()    # see packages currently loaded\n",
    "src\n",
    "\n",
    "#writing your own function\n",
    "f = function(x,y,z)\n",
    "{\n",
    "  res = sqrt(x^2 + y^2 + z^2)\n",
    "  return(res)\n",
    "}\n",
    "\n",
    "f(3,4,5)"
   ]
  },
  {
   "cell_type": "code",
   "execution_count": 9,
   "metadata": {},
   "outputs": [
    {
     "name": "stdout",
     "output_type": "stream",
     "text": [
      "[1] \"Check column names\"\n"
     ]
    },
    {
     "data": {
      "text/html": [
       "<ol class=list-inline>\n",
       "\t<li>'Sepal.Length'</li>\n",
       "\t<li>'Sepal.Width'</li>\n",
       "\t<li>'Petal.Length'</li>\n",
       "\t<li>'Petal.Width'</li>\n",
       "\t<li>'Species'</li>\n",
       "</ol>\n"
      ],
      "text/latex": [
       "\\begin{enumerate*}\n",
       "\\item 'Sepal.Length'\n",
       "\\item 'Sepal.Width'\n",
       "\\item 'Petal.Length'\n",
       "\\item 'Petal.Width'\n",
       "\\item 'Species'\n",
       "\\end{enumerate*}\n"
      ],
      "text/markdown": [
       "1. 'Sepal.Length'\n",
       "2. 'Sepal.Width'\n",
       "3. 'Petal.Length'\n",
       "4. 'Petal.Width'\n",
       "5. 'Species'\n",
       "\n",
       "\n"
      ],
      "text/plain": [
       "[1] \"Sepal.Length\" \"Sepal.Width\"  \"Petal.Length\" \"Petal.Width\"  \"Species\"     "
      ]
     },
     "metadata": {},
     "output_type": "display_data"
    },
    {
     "name": "stdout",
     "output_type": "stream",
     "text": [
      "[1] \"Iris set overview\"\n"
     ]
    },
    {
     "data": {
      "text/html": [
       "<table>\n",
       "<thead><tr><th scope=col>Sepal.Length</th><th scope=col>Sepal.Width</th><th scope=col>Petal.Length</th><th scope=col>Petal.Width</th><th scope=col>Species</th></tr></thead>\n",
       "<tbody>\n",
       "\t<tr><td>5.1   </td><td>3.5   </td><td>1.4   </td><td>0.2   </td><td>setosa</td></tr>\n",
       "\t<tr><td>4.9   </td><td>3.0   </td><td>1.4   </td><td>0.2   </td><td>setosa</td></tr>\n",
       "\t<tr><td>4.7   </td><td>3.2   </td><td>1.3   </td><td>0.2   </td><td>setosa</td></tr>\n",
       "\t<tr><td>4.6   </td><td>3.1   </td><td>1.5   </td><td>0.2   </td><td>setosa</td></tr>\n",
       "\t<tr><td>5.0   </td><td>3.6   </td><td>1.4   </td><td>0.2   </td><td>setosa</td></tr>\n",
       "\t<tr><td>5.4   </td><td>3.9   </td><td>1.7   </td><td>0.4   </td><td>setosa</td></tr>\n",
       "</tbody>\n",
       "</table>\n"
      ],
      "text/latex": [
       "\\begin{tabular}{r|lllll}\n",
       " Sepal.Length & Sepal.Width & Petal.Length & Petal.Width & Species\\\\\n",
       "\\hline\n",
       "\t 5.1    & 3.5    & 1.4    & 0.2    & setosa\\\\\n",
       "\t 4.9    & 3.0    & 1.4    & 0.2    & setosa\\\\\n",
       "\t 4.7    & 3.2    & 1.3    & 0.2    & setosa\\\\\n",
       "\t 4.6    & 3.1    & 1.5    & 0.2    & setosa\\\\\n",
       "\t 5.0    & 3.6    & 1.4    & 0.2    & setosa\\\\\n",
       "\t 5.4    & 3.9    & 1.7    & 0.4    & setosa\\\\\n",
       "\\end{tabular}\n"
      ],
      "text/markdown": [
       "\n",
       "| Sepal.Length | Sepal.Width | Petal.Length | Petal.Width | Species |\n",
       "|---|---|---|---|---|\n",
       "| 5.1    | 3.5    | 1.4    | 0.2    | setosa |\n",
       "| 4.9    | 3.0    | 1.4    | 0.2    | setosa |\n",
       "| 4.7    | 3.2    | 1.3    | 0.2    | setosa |\n",
       "| 4.6    | 3.1    | 1.5    | 0.2    | setosa |\n",
       "| 5.0    | 3.6    | 1.4    | 0.2    | setosa |\n",
       "| 5.4    | 3.9    | 1.7    | 0.4    | setosa |\n",
       "\n"
      ],
      "text/plain": [
       "  Sepal.Length Sepal.Width Petal.Length Petal.Width Species\n",
       "1 5.1          3.5         1.4          0.2         setosa \n",
       "2 4.9          3.0         1.4          0.2         setosa \n",
       "3 4.7          3.2         1.3          0.2         setosa \n",
       "4 4.6          3.1         1.5          0.2         setosa \n",
       "5 5.0          3.6         1.4          0.2         setosa \n",
       "6 5.4          3.9         1.7          0.4         setosa "
      ]
     },
     "metadata": {},
     "output_type": "display_data"
    },
    {
     "name": "stdout",
     "output_type": "stream",
     "text": [
      "[1] \"More overview of the dataset\"\n",
      "'data.frame':\t150 obs. of  5 variables:\n",
      " $ Sepal.Length: num  5.1 4.9 4.7 4.6 5 5.4 4.6 5 4.4 4.9 ...\n",
      " $ Sepal.Width : num  3.5 3 3.2 3.1 3.6 3.9 3.4 3.4 2.9 3.1 ...\n",
      " $ Petal.Length: num  1.4 1.4 1.3 1.5 1.4 1.7 1.4 1.5 1.4 1.5 ...\n",
      " $ Petal.Width : num  0.2 0.2 0.2 0.2 0.2 0.4 0.3 0.2 0.2 0.1 ...\n",
      " $ Species     : chr  \"setosa\" \"setosa\" \"setosa\" \"setosa\" ...\n",
      "[1] \"Species factor (categorical) levels\"\n"
     ]
    },
    {
     "data": {
      "text/plain": [
       "NULL"
      ]
     },
     "metadata": {},
     "output_type": "display_data"
    },
    {
     "name": "stdout",
     "output_type": "stream",
     "text": [
      "[1] \"Mean sepal width\"\n"
     ]
    },
    {
     "data": {
      "text/html": [
       "3.05733333333333"
      ],
      "text/latex": [
       "3.05733333333333"
      ],
      "text/markdown": [
       "3.05733333333333"
      ],
      "text/plain": [
       "[1] 3.057333"
      ]
     },
     "metadata": {},
     "output_type": "display_data"
    },
    {
     "name": "stdout",
     "output_type": "stream",
     "text": [
      "[1] \"Mean petal length\"\n"
     ]
    },
    {
     "data": {
      "text/html": [
       "3.758"
      ],
      "text/latex": [
       "3.758"
      ],
      "text/markdown": [
       "3.758"
      ],
      "text/plain": [
       "[1] 3.758"
      ]
     },
     "metadata": {},
     "output_type": "display_data"
    },
    {
     "name": "stdout",
     "output_type": "stream",
     "text": [
      "[1] \"Mean petal length - Fixed\"\n"
     ]
    },
    {
     "data": {
      "text/html": [
       "3.758"
      ],
      "text/latex": [
       "3.758"
      ],
      "text/markdown": [
       "3.758"
      ],
      "text/plain": [
       "[1] 3.758"
      ]
     },
     "metadata": {},
     "output_type": "display_data"
    },
    {
     "name": "stdout",
     "output_type": "stream",
     "text": [
      "[1] \"Tabulated flower column values\"\n"
     ]
    },
    {
     "data": {
      "text/plain": [
       "\n",
       "  big_flower small_flower \n",
       "         128           22 "
      ]
     },
     "metadata": {},
     "output_type": "display_data"
    },
    {
     "name": "stdout",
     "output_type": "stream",
     "text": [
      "[1] \"Tabulate Sepal length bins against species\"\n"
     ]
    },
    {
     "data": {
      "text/plain": [
       "           \n",
       "            setosa versicolor virginica\n",
       "  (4.3,5.5]     47         11         1\n",
       "  (5.5,6.7]      3         36        32\n",
       "  (6.7,7.9]      0          3        17"
      ]
     },
     "metadata": {},
     "output_type": "display_data"
    },
    {
     "name": "stdout",
     "output_type": "stream",
     "text": [
      "[1] \"Find average petal length in sepal length bins.\"\n"
     ]
    },
    {
     "data": {
      "text/html": [
       "<table>\n",
       "<thead><tr><th scope=col>Sepal.Length.bins</th><th scope=col>Petal.Length</th></tr></thead>\n",
       "<tbody>\n",
       "\t<tr><td>(4.3,5.5]</td><td>1.942373 </td></tr>\n",
       "\t<tr><td>(5.5,6.7]</td><td>4.669014 </td></tr>\n",
       "\t<tr><td>(6.7,7.9]</td><td>5.880000 </td></tr>\n",
       "</tbody>\n",
       "</table>\n"
      ],
      "text/latex": [
       "\\begin{tabular}{r|ll}\n",
       " Sepal.Length.bins & Petal.Length\\\\\n",
       "\\hline\n",
       "\t (4.3,5.5{]} & 1.942373   \\\\\n",
       "\t (5.5,6.7{]} & 4.669014   \\\\\n",
       "\t (6.7,7.9{]} & 5.880000   \\\\\n",
       "\\end{tabular}\n"
      ],
      "text/markdown": [
       "\n",
       "| Sepal.Length.bins | Petal.Length |\n",
       "|---|---|\n",
       "| (4.3,5.5] | 1.942373  |\n",
       "| (5.5,6.7] | 4.669014  |\n",
       "| (6.7,7.9] | 5.880000  |\n",
       "\n"
      ],
      "text/plain": [
       "  Sepal.Length.bins Petal.Length\n",
       "1 (4.3,5.5]         1.942373    \n",
       "2 (5.5,6.7]         4.669014    \n",
       "3 (6.7,7.9]         5.880000    "
      ]
     },
     "metadata": {},
     "output_type": "display_data"
    },
    {
     "name": "stdout",
     "output_type": "stream",
     "text": [
      "[1] 5.8000000 5.8433333 0.8280661\n",
      "[1] 3.0000000 3.0573333 0.4358663\n",
      "[1] 4.350000 3.758000 1.765298\n",
      "[1] 1.3000000 1.1993333 0.7622377\n",
      "[1] \"Mean of 2 first iris columns\"\n"
     ]
    },
    {
     "data": {
      "text/html": [
       "<dl class=dl-horizontal>\n",
       "\t<dt>Sepal.Length</dt>\n",
       "\t\t<dd>5.84333333333333</dd>\n",
       "\t<dt>Sepal.Width</dt>\n",
       "\t\t<dd>3.05733333333333</dd>\n",
       "</dl>\n"
      ],
      "text/latex": [
       "\\begin{description*}\n",
       "\\item[Sepal.Length] 5.84333333333333\n",
       "\\item[Sepal.Width] 3.05733333333333\n",
       "\\end{description*}\n"
      ],
      "text/markdown": [
       "Sepal.Length\n",
       ":   5.84333333333333Sepal.Width\n",
       ":   3.05733333333333\n",
       "\n"
      ],
      "text/plain": [
       "Sepal.Length  Sepal.Width \n",
       "    5.843333     3.057333 "
      ]
     },
     "metadata": {},
     "output_type": "display_data"
    }
   ],
   "source": [
    "#R base contains many default datasets.\n",
    "#One of the most common datasets in use is the Iris dataset.\n",
    "#Load it with \n",
    "data(iris)\n",
    "\n",
    "#Let's write it into a file and read it from input. \n",
    "#This goes into your working directory.\n",
    "write.table(iris,file='iris.txt',sep='\\t',col.names=T,quote=F,row.names=F)\n",
    "rm(iris)\n",
    "#Read in the file we just wrote.\n",
    "Iris=read.table('iris.txt',header=T,stringsAsFactors=F,sep='\\t')\n",
    "print('Check column names')\n",
    "colnames(Iris)\n",
    "# names(Iris) = c(\"Sepal.Length\", \"Sepal.Width\", \"Petal.Length\", \"Petal.Width\", \"Species\") #assign column names\n",
    "print('Iris set overview')\n",
    "head(Iris)\n",
    "print('More overview of the dataset')\n",
    "str(Iris)\n",
    "print('Species factor (categorical) levels')\n",
    "levels(Iris$Species)\n",
    "#manipulating with the data\n",
    "#illustration with missing data\n",
    "print('Mean sepal width')\n",
    "mean(Iris$Sepal.Width)\n",
    "print('Mean petal length')\n",
    "mean(Iris$Petal.Length) # returns NA\n",
    "new_iris=Iris[!complete.cases(Iris),] # find observations with missing values\n",
    "print('Mean petal length - Fixed')\n",
    "mean(Iris$Petal.Length, na.rm=TRUE) # fixed\n",
    "#Remove NAs\n",
    "iris = na.omit(Iris) #case-sensitive!\n",
    "\n",
    "#Subsetting data\n",
    "subset1=subset(iris, Sepal.Width >= 4 & Petal.Length>1.4)\n",
    "subset2=subset(iris, Sepal.Width >= 4 | (Species == 'Iris-versicolor' & Sepal.Width < 3))\n",
    "subset3=subset(iris, Species!=\"Iris-versicolor\" & Sepal.Width <5)\n",
    "\n",
    "#Add new column\n",
    "iris$flower = ifelse(iris$Sepal.Length<5, \"small_flower\",\"big_flower\")\n",
    "print('Tabulated flower column values')\n",
    "table(iris$flower) # dfrequency of values\n",
    "#Divide sepal length values into 3 categorical bins\n",
    "iris$Sepal.Length.bins = cut(iris$Sepal.Length, breaks = 3)\n",
    "print('Tabulate Sepal length bins against species')\n",
    "table(iris$Sepal.Length.bins, iris$Species)\n",
    "\n",
    "print('Find average petal length in sepal length bins.')\n",
    "aggregate(data = iris, Petal.Length ~ Sepal.Length.bins, mean)\n",
    "#Advanced way of aggregations with functions in package plyr \n",
    "\n",
    "#for loop vs apply\n",
    "#For loop is usually slower than apply amily functions\n",
    "for(i in 1:ncol(iris[,c(1:4)])) {\n",
    "  print(c(median(iris[,i]), mean(iris[,i]), sd(iris[,i]))) \n",
    "}\n",
    "\n",
    "#apply - function for doing a row-, or columnwise function application.\n",
    "median_2firstcolumns=apply(iris[,c(1:2)], 2, median) \n",
    "mean_2firstcolumns=apply(iris[,c(1:2)], 2, mean)\n",
    "sd_2firstcolumns=apply(iris[,c(1:2)], 2, sd) \n",
    "print('Mean of 2 first iris columns')\n",
    "mean_2firstcolumns\n",
    "sum_cols=summary(iris[,c(1:4)])\n",
    "#See sapply for a good alternative to for loop."
   ]
  },
  {
   "cell_type": "code",
   "execution_count": 10,
   "metadata": {},
   "outputs": [
    {
     "data": {
      "text/html": [
       "<table>\n",
       "<thead><tr><th></th><th scope=col>Sepal.Length</th><th scope=col>Sepal.Width</th><th scope=col>Petal.Length</th><th scope=col>Petal.Width</th><th scope=col>Species</th><th scope=col>flower</th><th scope=col>Sepal.Length.bins</th></tr></thead>\n",
       "<tbody>\n",
       "\t<tr><th scope=row>16</th><td>5.7       </td><td>4.4       </td><td>1.5       </td><td>0.4       </td><td>setosa    </td><td>big_flower</td><td>(5.5,6.7] </td></tr>\n",
       "\t<tr><th scope=row>33</th><td>5.2       </td><td>4.1       </td><td>1.5       </td><td>0.1       </td><td>setosa    </td><td>big_flower</td><td>(4.3,5.5] </td></tr>\n",
       "\t<tr><th scope=row>34</th><td>5.5       </td><td>4.2       </td><td>1.4       </td><td>0.2       </td><td>setosa    </td><td>big_flower</td><td>(4.3,5.5] </td></tr>\n",
       "</tbody>\n",
       "</table>\n"
      ],
      "text/latex": [
       "\\begin{tabular}{r|lllllll}\n",
       "  & Sepal.Length & Sepal.Width & Petal.Length & Petal.Width & Species & flower & Sepal.Length.bins\\\\\n",
       "\\hline\n",
       "\t16 & 5.7          & 4.4          & 1.5          & 0.4          & setosa       & big\\_flower & (5.5,6.7{]} \\\\\n",
       "\t33 & 5.2          & 4.1          & 1.5          & 0.1          & setosa       & big\\_flower & (4.3,5.5{]} \\\\\n",
       "\t34 & 5.5          & 4.2          & 1.4          & 0.2          & setosa       & big\\_flower & (4.3,5.5{]} \\\\\n",
       "\\end{tabular}\n"
      ],
      "text/markdown": [
       "\n",
       "| <!--/--> | Sepal.Length | Sepal.Width | Petal.Length | Petal.Width | Species | flower | Sepal.Length.bins |\n",
       "|---|---|---|---|---|---|---|---|\n",
       "| 16 | 5.7        | 4.4        | 1.5        | 0.4        | setosa     | big_flower | (5.5,6.7]  |\n",
       "| 33 | 5.2        | 4.1        | 1.5        | 0.1        | setosa     | big_flower | (4.3,5.5]  |\n",
       "| 34 | 5.5        | 4.2        | 1.4        | 0.2        | setosa     | big_flower | (4.3,5.5]  |\n",
       "\n"
      ],
      "text/plain": [
       "   Sepal.Length Sepal.Width Petal.Length Petal.Width Species flower    \n",
       "16 5.7          4.4         1.5          0.4         setosa  big_flower\n",
       "33 5.2          4.1         1.5          0.1         setosa  big_flower\n",
       "34 5.5          4.2         1.4          0.2         setosa  big_flower\n",
       "   Sepal.Length.bins\n",
       "16 (5.5,6.7]        \n",
       "33 (4.3,5.5]        \n",
       "34 (4.3,5.5]        "
      ]
     },
     "metadata": {},
     "output_type": "display_data"
    },
    {
     "data": {
      "image/png": "[encoded data removed]",
      "text/plain": [
       "plot without title"
      ]
     },
     "metadata": {},
     "output_type": "display_data"
    },
    {
     "data": {
      "image/png": "[encoded data removed]",
      "text/plain": [
       "Plot with title \"Scatterplot\""
      ]
     },
     "metadata": {},
     "output_type": "display_data"
    }
   ],
   "source": [
    "#scatterplot\n",
    "options(repr.plot.width=5, repr.plot.height=5)\n",
    "plot(iris$Sepal.Length, iris$Sepal.Width) #spot an outlier\n",
    "IQR = quantile(iris$Sepal.Width,0.75) - quantile(iris$Sepal.Width,0.25) # interquartile range\n",
    "outliers = which( iris$Sepal.Width > (quantile(iris$Sepal.Width,0.75) + 1.5*IQR) )\n",
    "iris[outliers,] # not all are actual outliers\n",
    "#\n",
    "plot(iris$Sepal.Length, iris$Sepal.Width, col='red', xlab = \"Sepal length\", ylab = 'Sepal Width', main = 'Scatterplot', xlim = c(5.5, 8))"
   ]
  },
  {
   "cell_type": "code",
   "execution_count": 11,
   "metadata": {},
   "outputs": [
    {
     "name": "stdout",
     "output_type": "stream",
     "text": [
      "[1] \"Dependencies between variables\"\n",
      "[1] \"Correlations\"\n"
     ]
    },
    {
     "data": {
      "text/html": [
       "<table>\n",
       "<thead><tr><th></th><th scope=col>Sepal.Length</th><th scope=col>Sepal.Width</th><th scope=col>Petal.Length</th><th scope=col>Petal.Width</th></tr></thead>\n",
       "<tbody>\n",
       "\t<tr><th scope=row>Sepal.Length</th><td> 1.0000000</td><td>-0.1175698</td><td> 0.8717538</td><td> 0.8179411</td></tr>\n",
       "\t<tr><th scope=row>Sepal.Width</th><td>-0.1175698</td><td> 1.0000000</td><td>-0.4284401</td><td>-0.3661259</td></tr>\n",
       "\t<tr><th scope=row>Petal.Length</th><td> 0.8717538</td><td>-0.4284401</td><td> 1.0000000</td><td> 0.9628654</td></tr>\n",
       "\t<tr><th scope=row>Petal.Width</th><td> 0.8179411</td><td>-0.3661259</td><td> 0.9628654</td><td> 1.0000000</td></tr>\n",
       "</tbody>\n",
       "</table>\n"
      ],
      "text/latex": [
       "\\begin{tabular}{r|llll}\n",
       "  & Sepal.Length & Sepal.Width & Petal.Length & Petal.Width\\\\\n",
       "\\hline\n",
       "\tSepal.Length &  1.0000000 & -0.1175698 &  0.8717538 &  0.8179411\\\\\n",
       "\tSepal.Width & -0.1175698 &  1.0000000 & -0.4284401 & -0.3661259\\\\\n",
       "\tPetal.Length &  0.8717538 & -0.4284401 &  1.0000000 &  0.9628654\\\\\n",
       "\tPetal.Width &  0.8179411 & -0.3661259 &  0.9628654 &  1.0000000\\\\\n",
       "\\end{tabular}\n"
      ],
      "text/markdown": [
       "\n",
       "| <!--/--> | Sepal.Length | Sepal.Width | Petal.Length | Petal.Width |\n",
       "|---|---|---|---|---|\n",
       "| Sepal.Length |  1.0000000 | -0.1175698 |  0.8717538 |  0.8179411 |\n",
       "| Sepal.Width | -0.1175698 |  1.0000000 | -0.4284401 | -0.3661259 |\n",
       "| Petal.Length |  0.8717538 | -0.4284401 |  1.0000000 |  0.9628654 |\n",
       "| Petal.Width |  0.8179411 | -0.3661259 |  0.9628654 |  1.0000000 |\n",
       "\n"
      ],
      "text/plain": [
       "             Sepal.Length Sepal.Width Petal.Length Petal.Width\n",
       "Sepal.Length  1.0000000   -0.1175698   0.8717538    0.8179411 \n",
       "Sepal.Width  -0.1175698    1.0000000  -0.4284401   -0.3661259 \n",
       "Petal.Length  0.8717538   -0.4284401   1.0000000    0.9628654 \n",
       "Petal.Width   0.8179411   -0.3661259   0.9628654    1.0000000 "
      ]
     },
     "metadata": {},
     "output_type": "display_data"
    },
    {
     "name": "stdout",
     "output_type": "stream",
     "text": [
      "'data.frame':\t150 obs. of  7 variables:\n",
      " $ Sepal.Length     : num  5.1 4.9 4.7 4.6 5 5.4 4.6 5 4.4 4.9 ...\n",
      " $ Sepal.Width      : num  3.5 3 3.2 3.1 3.6 3.9 3.4 3.4 2.9 3.1 ...\n",
      " $ Petal.Length     : num  1.4 1.4 1.3 1.5 1.4 1.7 1.4 1.5 1.4 1.5 ...\n",
      " $ Petal.Width      : num  0.2 0.2 0.2 0.2 0.2 0.4 0.3 0.2 0.2 0.1 ...\n",
      " $ Species          : chr  \"setosa\" \"setosa\" \"setosa\" \"setosa\" ...\n",
      " $ flower           : chr  \"big_flower\" \"small_flower\" \"small_flower\" \"small_flower\" ...\n",
      " $ Sepal.Length.bins: Factor w/ 3 levels \"(4.3,5.5]\",\"(5.5,6.7]\",..: 1 1 1 1 1 1 1 1 1 1 ...\n",
      "[1] \"Petal width histogram\"\n"
     ]
    },
    {
     "data": {
      "image/png": "[encoded data removed]",
      "text/plain": [
       "plot without title"
      ]
     },
     "metadata": {},
     "output_type": "display_data"
    },
    {
     "data": {
      "image/png": "[encoded data removed]",
      "text/plain": [
       "Plot with title \"Histogram of iris$Petal.Width\""
      ]
     },
     "metadata": {},
     "output_type": "display_data"
    }
   ],
   "source": [
    "print('Dependencies between variables')\n",
    "plot(iris[,1:4]) # all-vs-all plotting\n",
    "print('Correlations')\n",
    "cor(iris[,1:4],method = \"pearson\")\n",
    "#Parameter setting\n",
    "par(mfrow = c(2,2))\n",
    "str(iris)\n",
    "plot(iris$Sepal.Length, iris$Sepal.Width)\n",
    "#Histogram\n",
    "hist(iris$Petal.Length)\n",
    "#Boxplot\n",
    "boxplot(as.factor(iris$Species), iris$Petal.Length)\n",
    "print('Petal width histogram')\n",
    "hist(iris$Petal.Width, freq = FALSE)\n",
    "#Add lines to your plot\n",
    "lines(density(iris$Petal.Width), col ='red')\n",
    "#Reset parameters\n",
    "par(mfrow=c(1,1))"
   ]
  },
  {
   "cell_type": "code",
   "execution_count": 12,
   "metadata": {},
   "outputs": [
    {
     "name": "stdout",
     "output_type": "stream",
     "text": [
      "[1] \"Advanced plotting\"\n"
     ]
    },
    {
     "name": "stderr",
     "output_type": "stream",
     "text": [
      "Registered S3 methods overwritten by 'ggplot2':\n",
      "  method         from \n",
      "  [.quosures     rlang\n",
      "  c.quosures     rlang\n",
      "  print.quosures rlang\n"
     ]
    },
    {
     "data": {
      "image/png": "[encoded data removed]",
      "text/plain": [
       "plot without title"
      ]
     },
     "metadata": {},
     "output_type": "display_data"
    },
    {
     "data": {
      "image/png": "[encoded data removed]",
      "text/plain": [
       "plot without title"
      ]
     },
     "metadata": {},
     "output_type": "display_data"
    },
    {
     "data": {
      "image/png": "[encoded data removed]",
      "text/plain": [
       "plot without title"
      ]
     },
     "metadata": {},
     "output_type": "display_data"
    },
    {
     "data": {
      "image/png": "[encoded data removed]",
      "text/plain": [
       "plot without title"
      ]
     },
     "metadata": {},
     "output_type": "display_data"
    }
   ],
   "source": [
    "print('Advanced plotting')\n",
    "#Installation of packages with install.packages(\"<Package_name>\")\n",
    "#Activate package with library(<Package_name>)\n",
    "#install.packages(\"ggplot2\")\n",
    "library(ggplot2)\n",
    "ggplot(iris, aes(x = Sepal.Length, y = Sepal.Width))+ geom_point()\n",
    "ggplot(iris, aes(x = Sepal.Length, y = Sepal.Width,color = Species))+ geom_point()\n",
    "ggplot(iris, aes(x = Sepal.Length, y = Sepal.Width,color = Species, size = Petal.Width))+ geom_point()\n",
    "ggplot(iris, aes(x = Sepal.Length, y = Sepal.Width))+ geom_point()+facet_grid(Species~.)"
   ]
  },
  {
   "cell_type": "code",
   "execution_count": null,
   "metadata": {},
   "outputs": [],
   "source": []
  }
 ],
 "metadata": {
  "kernelspec": {
   "display_name": "R",
   "language": "R",
   "name": "ir"
  },
  "language_info": {
   "codemirror_mode": "r",
   "file_extension": ".r",
   "mimetype": "text/x-r-source",
   "name": "R",
   "pygments_lexer": "r",
   "version": "3.6.1"
  }
 },
 "nbformat": 4,
 "nbformat_minor": 4
}
